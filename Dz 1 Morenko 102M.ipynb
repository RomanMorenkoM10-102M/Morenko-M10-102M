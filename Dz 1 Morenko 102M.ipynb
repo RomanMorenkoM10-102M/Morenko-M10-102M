{
 "cells": [
  {
   "cell_type": "code",
   "execution_count": 22,
   "id": "06eff056",
   "metadata": {},
   "outputs": [],
   "source": [
    "a = 1\n",
    "\n",
    "b = 0\n"
   ]
  },
  {
   "cell_type": "code",
   "execution_count": 23,
   "id": "9736c303",
   "metadata": {},
   "outputs": [
    {
     "name": "stdout",
     "output_type": "stream",
     "text": [
      "0\n",
      "0\n",
      "0\n",
      "0\n",
      "False\n",
      "4\n",
      "0\n",
      "1\n",
      "2\n"
     ]
    }
   ],
   "source": [
    "    print(a and b)\n",
    "    print ((a and b) or b)\n",
    "    print ((a and b) or  (a and b))\n",
    "    print (a and b or not (a or b) or b)\n",
    "    print (b and b or not a and (a or b or a) or not (a or b))\n",
    "    print (1 << 2)\n",
    "    print (1 & 0 | 1 >> 1)\n",
    "    print (1 & 0 | 1 >> 0)\n",
    "    print (0b101 & 0b111 ^ 0b111 | 0b010)\n"
   ]
  },
  {
   "cell_type": "code",
   "execution_count": null,
   "id": "5c614848",
   "metadata": {},
   "outputs": [],
   "source": []
  },
  {
   "cell_type": "code",
   "execution_count": null,
   "id": "025f733f",
   "metadata": {},
   "outputs": [],
   "source": []
  }
 ],
 "metadata": {
  "kernelspec": {
   "display_name": "Python 3 (ipykernel)",
   "language": "python",
   "name": "python3"
  },
  "language_info": {
   "codemirror_mode": {
    "name": "ipython",
    "version": 3
   },
   "file_extension": ".py",
   "mimetype": "text/x-python",
   "name": "python",
   "nbconvert_exporter": "python",
   "pygments_lexer": "ipython3",
   "version": "3.7.11"
  }
 },
 "nbformat": 4,
 "nbformat_minor": 5
}
