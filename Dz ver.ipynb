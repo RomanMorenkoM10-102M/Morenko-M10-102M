{
 "cells": [
  {
   "cell_type": "markdown",
   "metadata": {},
   "source": [
    "Один самолет вылетел из Москвы, и должен совершить посадку в 5 городах. Необходимо узнать, количество городов, в котрых может приземлиться в первый, второй, третий город.\n"
   ]
  },
  {
   "cell_type": "code",
   "execution_count": 1,
   "metadata": {},
   "outputs": [
    {
     "data": {
      "text/plain": [
       "10.0"
      ]
     },
     "execution_count": 1,
     "metadata": {},
     "output_type": "execute_result"
    }
   ],
   "source": [
    "from pandas import *\n",
    "from math import factorial\n",
    "\n",
    "def goroda(n, r):\n",
    "    return factorial(n)/ (factorial(r) * factorial(n-r))\n",
    "goroda(5,3)\n"
   ]
  },
  {
   "cell_type": "markdown",
   "metadata": {},
   "source": [
    "Осьминог Пауль 16 раз пробовал угадать победителя футбольного матча. 14 раз он угадал правильно, 2 раза ошибся. \n",
    "\n",
    "Проверьте гипотезу H0: Пауль выбирает победителя футбольного матча случайно. Сделайте вывод. (сложная задача)\n"
   ]
  },
  {
   "cell_type": "code",
   "execution_count": 2,
   "metadata": {
    "collapsed": true
   },
   "outputs": [],
   "source": [
    "import numpy as np\n",
    "import random\n",
    "\n",
    "def para (n):\n",
    "    \"\"\"\n",
    "    :param n: Количество подбрасываний\n",
    "    :return:  Список слкучайных подюрасываний кубика\n",
    "    \"\"\"\n",
    "    data = []\n",
    "    while len(data) <n:\n",
    "        data.append(random.randint(1,2))\n",
    "    return data\n",
    "    data1 = []\n",
    "    while len(data1) <n:\n",
    "        data1.append(random.randint(1,2))\n",
    "    return data1"
   ]
  },
  {
   "cell_type": "code",
   "execution_count": 3,
   "metadata": {},
   "outputs": [
    {
     "name": "stdout",
     "output_type": "stream",
     "text": [
      "[1, 1, 2, 1, 2, 1, 2, 2, 2, 2, 2, 1, 1, 1, 2, 2]\n",
      "[1, 2, 1, 1, 2, 1, 2, 1, 1, 2, 1, 2, 2, 2, 1, 2]\n"
     ]
    }
   ],
   "source": [
    "win_data = para (16)\n",
    "print(win_data)\n",
    "real_data = para (16)\n",
    "print(real_data)"
   ]
  },
  {
   "cell_type": "code",
   "execution_count": 4,
   "metadata": {},
   "outputs": [
    {
     "name": "stdout",
     "output_type": "stream",
     "text": [
      "[1, 1, 1, 1, 2, 1, 2, 1, 1, 2, 1, 1, 1, 1, 1, 2]\n"
     ]
    }
   ],
   "source": [
    "result = [] \n",
    "\n",
    "# перебираем элементы списка \n",
    "# в пределах длины первого списка\n",
    "for i in range(len(win_data)):\n",
    "    # сравниваем элементы первого списка\n",
    "    # с элементами второго списка\n",
    "    if win_data[i] < real_data[i]: \n",
    "        # добавляем в итоговый список `result`\n",
    "        # элемент из первого, если он меньше\n",
    "        result.append(win_data[i]) \n",
    "    else:\n",
    "        # иначе - добавляем элемент из второго списка\n",
    "        result.append(real_data[i]) \n",
    "\n",
    "# выводим итоговый список\n",
    "print(result)"
   ]
  },
  {
   "cell_type": "code",
   "execution_count": 5,
   "metadata": {},
   "outputs": [
    {
     "name": "stdout",
     "output_type": "stream",
     "text": [
      "False\n"
     ]
    }
   ],
   "source": [
    "results = np.array_equal(win_data, real_data)\n",
    "print(results)"
   ]
  },
  {
   "cell_type": "code",
   "execution_count": 6,
   "metadata": {},
   "outputs": [
    {
     "ename": "NameError",
     "evalue": "name 'var' is not defined",
     "output_type": "error",
     "traceback": [
      "\u001b[1;31m---------------------------------------------------------------------------\u001b[0m",
      "\u001b[1;31mNameError\u001b[0m                                 Traceback (most recent call last)",
      "\u001b[1;32m<ipython-input-6-d28212ab1710>\u001b[0m in \u001b[0;36m<module>\u001b[1;34m()\u001b[0m\n\u001b[1;32m----> 1\u001b[1;33m \u001b[0mvar\u001b[0m\u001b[1;33m\u001b[0m\u001b[0m\n\u001b[0m\u001b[0;32m      2\u001b[0m \u001b[0ma\u001b[0m \u001b[1;33m=\u001b[0m \u001b[1;33m[\u001b[0m\u001b[1;34m'a'\u001b[0m\u001b[1;33m,\u001b[0m \u001b[1;34m'b'\u001b[0m\u001b[1;33m,\u001b[0m \u001b[1;34m'c'\u001b[0m\u001b[1;33m,\u001b[0m \u001b[1;34m'd'\u001b[0m\u001b[1;33m]\u001b[0m\u001b[1;33m;\u001b[0m\u001b[1;33m\u001b[0m\u001b[0m\n\u001b[0;32m      3\u001b[0m \u001b[0mvar\u001b[0m\u001b[1;33m\u001b[0m\u001b[0m\n\u001b[0;32m      4\u001b[0m \u001b[0mb\u001b[0m \u001b[1;33m=\u001b[0m \u001b[1;33m[\u001b[0m\u001b[1;34m'a'\u001b[0m\u001b[1;33m,\u001b[0m \u001b[1;34m'b'\u001b[0m\u001b[1;33m,\u001b[0m \u001b[1;34m'x'\u001b[0m\u001b[1;33m,\u001b[0m \u001b[1;34m'y'\u001b[0m\u001b[1;33m,\u001b[0m \u001b[1;34m'z'\u001b[0m\u001b[1;33m]\u001b[0m\u001b[1;33m;\u001b[0m\u001b[1;33m\u001b[0m\u001b[0m\n\u001b[0;32m      5\u001b[0m \u001b[1;33m\u001b[0m\u001b[0m\n",
      "\u001b[1;31mNameError\u001b[0m: name 'var' is not defined"
     ]
    }
   ],
   "source": [
    "var \n",
    "a = ['a', 'b', 'c', 'd'];\n",
    "var \n",
    "b = ['a', 'b', 'x', 'y', 'z'];\n",
    "\n",
    "var \n",
    "c = a.filter(n >= b.indexOf(n) == -1);"
   ]
  },
  {
   "cell_type": "code",
   "execution_count": 7,
   "metadata": {},
   "outputs": [
    {
     "name": "stdout",
     "output_type": "stream",
     "text": [
      "Итерация: 1\n",
      "Количество удач: 4\n",
      "Итерация: 2\n",
      "Количество удач: 4\n",
      "Итерация: 3\n",
      "Количество удач: 11\n",
      "Итерация: 4\n",
      "Количество удач: 8\n",
      "Итерация: 5\n",
      "Количество удач: 10\n",
      "Итерация: 6\n",
      "Количество удач: 13\n",
      "Итерация: 7\n",
      "Количество удач: 8\n",
      "Итерация: 8\n",
      "Количество удач: 10\n",
      "Итерация: 9\n",
      "Количество удач: 6\n",
      "Итерация: 10\n",
      "Количество удач: 8\n",
      "Итерация: 11\n",
      "Количество удач: 10\n",
      "Итерация: 12\n",
      "Количество удач: 9\n",
      "Итерация: 13\n",
      "Количество удач: 9\n",
      "Итерация: 14\n",
      "Количество удач: 11\n",
      "Итерация: 15\n",
      "Количество удач: 8\n",
      "Итерация: 16\n",
      "Количество удач: 12\n",
      "Итерация: 17\n",
      "Количество удач: 6\n",
      "Итерация: 18\n",
      "Количество удач: 8\n",
      "Итерация: 19\n",
      "Количество удач: 8\n",
      "Итерация: 20\n",
      "Количество удач: 7\n",
      "Итерация: 21\n",
      "Количество удач: 6\n",
      "Итерация: 22\n",
      "Количество удач: 6\n",
      "Итерация: 23\n",
      "Количество удач: 9\n",
      "Итерация: 24\n",
      "Количество удач: 8\n",
      "Итерация: 25\n",
      "Количество удач: 11\n",
      "Итерация: 26\n",
      "Количество удач: 10\n",
      "Итерация: 27\n",
      "Количество удач: 7\n",
      "Итерация: 28\n",
      "Количество удач: 7\n",
      "Итерация: 29\n",
      "Количество удач: 8\n",
      "Итерация: 30\n",
      "Количество удач: 10\n",
      "Итерация: 31\n",
      "Количество удач: 9\n",
      "Итерация: 32\n",
      "Количество удач: 8\n",
      "Итерация: 33\n",
      "Количество удач: 10\n",
      "Итерация: 34\n",
      "Количество удач: 8\n",
      "Итерация: 35\n",
      "Количество удач: 9\n",
      "Итерация: 36\n",
      "Количество удач: 5\n",
      "Итерация: 37\n",
      "Количество удач: 7\n",
      "Итерация: 38\n",
      "Количество удач: 5\n",
      "Итерация: 39\n",
      "Количество удач: 8\n",
      "Итерация: 40\n",
      "Количество удач: 9\n",
      "Итерация: 41\n",
      "Количество удач: 9\n",
      "Итерация: 42\n",
      "Количество удач: 6\n",
      "Итерация: 43\n",
      "Количество удач: 7\n",
      "Итерация: 44\n",
      "Количество удач: 8\n",
      "Итерация: 45\n",
      "Количество удач: 7\n",
      "Итерация: 46\n",
      "Количество удач: 6\n",
      "Итерация: 47\n",
      "Количество удач: 7\n",
      "Итерация: 48\n",
      "Количество удач: 8\n",
      "Итерация: 49\n",
      "Количество удач: 5\n",
      "Итерация: 50\n",
      "Количество удач: 7\n",
      "Итерация: 51\n",
      "Количество удач: 9\n",
      "Итерация: 52\n",
      "Количество удач: 7\n",
      "Итерация: 53\n",
      "Количество удач: 8\n",
      "Итерация: 54\n",
      "Количество удач: 7\n",
      "Итерация: 55\n",
      "Количество удач: 9\n",
      "Итерация: 56\n",
      "Количество удач: 10\n",
      "Итерация: 57\n",
      "Количество удач: 7\n",
      "Итерация: 58\n",
      "Количество удач: 8\n",
      "Итерация: 59\n",
      "Количество удач: 5\n",
      "Итерация: 60\n",
      "Количество удач: 8\n",
      "Итерация: 61\n",
      "Количество удач: 8\n",
      "Итерация: 62\n",
      "Количество удач: 6\n",
      "Итерация: 63\n",
      "Количество удач: 8\n",
      "Итерация: 64\n",
      "Количество удач: 8\n",
      "Итерация: 65\n",
      "Количество удач: 9\n",
      "Итерация: 66\n",
      "Количество удач: 9\n",
      "Итерация: 67\n",
      "Количество удач: 8\n",
      "Итерация: 68\n",
      "Количество удач: 13\n",
      "Итерация: 69\n",
      "Количество удач: 11\n",
      "Итерация: 70\n",
      "Количество удач: 7\n",
      "Итерация: 71\n",
      "Количество удач: 11\n",
      "Итерация: 72\n",
      "Количество удач: 11\n",
      "Итерация: 73\n",
      "Количество удач: 12\n",
      "Итерация: 74\n",
      "Количество удач: 7\n",
      "Итерация: 75\n",
      "Количество удач: 11\n",
      "Итерация: 76\n",
      "Количество удач: 11\n",
      "Итерация: 77\n",
      "Количество удач: 14\n",
      "Время поиска заняло 0.014963428085944891 сек\n"
     ]
    }
   ],
   "source": [
    "import random\n",
    "from timeit import timeit\n",
    "\n",
    "\n",
    "def get_rand_list(num_elements=16):\n",
    "    for i in range(num_elements):\n",
    "        yield random.randint(0, 1)\n",
    "\n",
    "\n",
    "def get_count_false():\n",
    "    counter = 0\n",
    "    for j in get_rand_list():\n",
    "        if j == 1:\n",
    "            counter += 1\n",
    "\n",
    "    return counter\n",
    "\n",
    "\n",
    "def search():\n",
    "    a = 0\n",
    "    i = 0\n",
    "    while a != 14:\n",
    "        i += 1\n",
    "        a = get_count_false()\n",
    "        print(f\"Итерация: {i}\")\n",
    "        print(f\"Количество удач: {a}\")\n",
    "\n",
    "\n",
    "print(f\"Время поиска заняло {timeit(search, number=1)} сек\")\n"
   ]
  },
  {
   "cell_type": "code",
   "execution_count": null,
   "metadata": {
    "collapsed": true
   },
   "outputs": [],
   "source": []
  },
  {
   "cell_type": "code",
   "execution_count": null,
   "metadata": {
    "collapsed": true
   },
   "outputs": [],
   "source": []
  },
  {
   "cell_type": "code",
   "execution_count": null,
   "metadata": {
    "collapsed": true
   },
   "outputs": [],
   "source": []
  },
  {
   "cell_type": "code",
   "execution_count": null,
   "metadata": {
    "collapsed": true
   },
   "outputs": [],
   "source": []
  },
  {
   "cell_type": "code",
   "execution_count": null,
   "metadata": {
    "collapsed": true
   },
   "outputs": [],
   "source": []
  }
 ],
 "metadata": {
  "kernelspec": {
   "display_name": "Python 3",
   "language": "python",
   "name": "python3"
  },
  "language_info": {
   "codemirror_mode": {
    "name": "ipython",
    "version": 3
   },
   "file_extension": ".py",
   "mimetype": "text/x-python",
   "name": "python",
   "nbconvert_exporter": "python",
   "pygments_lexer": "ipython3",
   "version": "3.6.2"
  }
 },
 "nbformat": 4,
 "nbformat_minor": 5
}
