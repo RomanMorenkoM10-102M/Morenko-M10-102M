{
 "cells": [
  {
   "cell_type": "markdown",
   "id": "2439c6f4",
   "metadata": {},
   "source": [
    "Самостоятельное задание #7\n",
    "\n",
    "Задание 1\n",
    "\n",
    "Допишите функцию, которая принимает список чисел и, с помощью множеств, определяет количество различных чисел внутри списка.\n"
   ]
  },
  {
   "cell_type": "code",
   "execution_count": 2,
   "id": "40c26cd6",
   "metadata": {},
   "outputs": [
    {
     "data": {
      "text/plain": [
       "9"
      ]
     },
     "execution_count": 2,
     "metadata": {},
     "output_type": "execute_result"
    }
   ],
   "source": [
    "a= {1,5,7,8,4,5,3,2,1,11,23}\n",
    "len (a)"
   ]
  },
  {
   "cell_type": "markdown",
   "id": "54c5125d",
   "metadata": {},
   "source": [
    "Задание 2\n",
    "Допишите функцию, которая принимает несколько списков чисел и, с помощью множеств, определяет количество общих чисел из первого и второго списка."
   ]
  },
  {
   "cell_type": "code",
   "execution_count": 4,
   "id": "c0f52dc0",
   "metadata": {},
   "outputs": [
    {
     "data": {
      "text/plain": [
       "9"
      ]
     },
     "execution_count": 4,
     "metadata": {},
     "output_type": "execute_result"
    }
   ],
   "source": [
    "a= {1,5,7,8,4,5,3,2,1,11,23}\n",
    "b= {1,12,43,5,2,17,6,8,11,47}\n",
    "len(a.intersection(b))\n"
   ]
  },
  {
   "cell_type": "markdown",
   "id": "db5e2f2d",
   "metadata": {},
   "source": [
    "dfghdfhdfh"
   ]
  },
  {
   "cell_type": "markdown",
   "id": "eb9bad78",
   "metadata": {},
   "source": [
    "fddhdfhdfh"
   ]
  },
  {
   "cell_type": "code",
   "execution_count": null,
   "id": "59f0c37e",
   "metadata": {},
   "outputs": [],
   "source": []
  }
 ],
 "metadata": {
  "kernelspec": {
   "display_name": "Python 3 (ipykernel)",
   "language": "python",
   "name": "python3"
  },
  "language_info": {
   "codemirror_mode": {
    "name": "ipython",
    "version": 3
   },
   "file_extension": ".py",
   "mimetype": "text/x-python",
   "name": "python",
   "nbconvert_exporter": "python",
   "pygments_lexer": "ipython3",
   "version": "3.7.11"
  }
 },
 "nbformat": 4,
 "nbformat_minor": 5
}
