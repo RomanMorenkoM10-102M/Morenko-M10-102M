{
 "cells": [
  {
   "cell_type": "markdown",
   "id": "2efe922d",
   "metadata": {},
   "source": [
    "Самостоятельное задание #5"
   ]
  },
  {
   "cell_type": "markdown",
   "id": "a39e32a1",
   "metadata": {},
   "source": [
    "Задание 1\n",
    "Допишите функцию, которая принимает список, выбирает из него все элементы с четным индексом и возвращает их в виде списка.\n"
   ]
  },
  {
   "cell_type": "code",
   "execution_count": 15,
   "id": "6239c603",
   "metadata": {},
   "outputs": [
    {
     "name": "stdout",
     "output_type": "stream",
     "text": [
      "['q', 'e', 't', 'u', 'o']\n"
     ]
    }
   ],
   "source": [
    "a = list('qwertyuiop')\n",
    "print(a[::2])"
   ]
  },
  {
   "cell_type": "markdown",
   "id": "3236df15",
   "metadata": {},
   "source": [
    "Задание 2\n",
    "Допишите функцию, которая принимает список, выбирает из него все элементы, которые больше предыдущего и возвращает их в виде списка.\n"
   ]
  },
  {
   "cell_type": "code",
   "execution_count": 41,
   "id": "a5fdce6a",
   "metadata": {},
   "outputs": [
    {
     "name": "stdout",
     "output_type": "stream",
     "text": [
      "[5, 7, 6, 8, 7, 9]\n"
     ]
    }
   ],
   "source": [
    "a = [1,5,7,3,6,8,2,7,9]\n",
    "b= list()\n",
    "for i in range(len(a)-1):\n",
    "        if a[i+1] > a[i]:\n",
    "            b.append(a[i+1])\n",
    "print (b)"
   ]
  },
  {
   "cell_type": "markdown",
   "id": "50d65f2b",
   "metadata": {},
   "source": [
    "Задание 3\n",
    "Допишите функцию, которая принимает список, меняет местами наибольший и наименьший элементы и возвращает этот список."
   ]
  },
  {
   "cell_type": "code",
   "execution_count": 54,
   "id": "e93a0fc3",
   "metadata": {},
   "outputs": [
    {
     "name": "stdout",
     "output_type": "stream",
     "text": [
      "[5, 5, 1, 15, 3, 6, 8, 10, 7, 9]\n"
     ]
    }
   ],
   "source": [
    "a = [5,5,15,1,3,6,8,10,7,9]\n",
    "\n",
    "c= a.index (max (a))\n",
    "d= a.index (min (a))\n",
    "a.insert(c, min (a))\n",
    "a.insert(d, max (a))\n",
    "a.pop(c+2)\n",
    "a.pop(d+1)\n",
    "print(a)"
   ]
  }
 ],
 "metadata": {
  "kernelspec": {
   "display_name": "Python 3 (ipykernel)",
   "language": "python",
   "name": "python3"
  },
  "language_info": {
   "codemirror_mode": {
    "name": "ipython",
    "version": 3
   },
   "file_extension": ".py",
   "mimetype": "text/x-python",
   "name": "python",
   "nbconvert_exporter": "python",
   "pygments_lexer": "ipython3",
   "version": "3.7.11"
  }
 },
 "nbformat": 4,
 "nbformat_minor": 5
}
