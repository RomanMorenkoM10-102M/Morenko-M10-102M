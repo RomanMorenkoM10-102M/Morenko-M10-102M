{
 "cells": [
  {
   "cell_type": "markdown",
   "id": "e924258d",
   "metadata": {},
   "source": [
    " Задание 1 Допишите функцию, которая принимает массив из 10 чисел и возвращает их сумму."
   ]
  },
  {
   "cell_type": "code",
   "execution_count": 98,
   "id": "7a3f3891",
   "metadata": {},
   "outputs": [],
   "source": [
    "mas = [1, 2, 5, 7, 8, 9, 15, 5, 9, 45]"
   ]
  },
  {
   "cell_type": "code",
   "execution_count": 100,
   "id": "7663ebb7",
   "metadata": {},
   "outputs": [
    {
     "data": {
      "text/plain": [
       "106"
      ]
     },
     "execution_count": 100,
     "metadata": {},
     "output_type": "execute_result"
    }
   ],
   "source": [
    "    sum (mas)"
   ]
  },
  {
   "cell_type": "markdown",
   "id": "b76bc118",
   "metadata": {},
   "source": [
    "Задание 2\n",
    "Допишите функцию, которая принимает массив чисел и возвращает количество чисел равных нулю."
   ]
  },
  {
   "cell_type": "code",
   "execution_count": 3,
   "id": "b700f193",
   "metadata": {},
   "outputs": [],
   "source": [
    "    mas = [1, 0, 5, 7, 0, 0, 0, 0]"
   ]
  },
  {
   "cell_type": "code",
   "execution_count": 4,
   "id": "c34129e4",
   "metadata": {},
   "outputs": [],
   "source": [
    "    zero = 0"
   ]
  },
  {
   "cell_type": "code",
   "execution_count": 5,
   "id": "72eb23e3",
   "metadata": {},
   "outputs": [
    {
     "name": "stdout",
     "output_type": "stream",
     "text": [
      "5\n"
     ]
    }
   ],
   "source": [
    "    for i in mas:\n",
    "        if i == 0:\n",
    "            zero += 1\n",
    "    print (zero)"
   ]
  },
  {
   "cell_type": "markdown",
   "id": "88f69d06",
   "metadata": {},
   "source": [
    "Задание 3\n",
    "Напишите программу, в которой задается натуральное число n и выводится лестница из n ступенек, i-я ступенька должна состоять из чисел от 1 до i без пробелов."
   ]
  },
  {
   "cell_type": "code",
   "execution_count": 107,
   "id": "34f05cb5",
   "metadata": {},
   "outputs": [
    {
     "name": "stdout",
     "output_type": "stream",
     "text": [
      "1\n",
      "12\n",
      "123\n",
      "1234\n",
      "12345\n"
     ]
    }
   ],
   "source": [
    "n = 5\n",
    "for i in range( 1, n + 1 ):\n",
    "    for j in range( 1, i + 1 ):\n",
    "        print( j, end = \"\" )\n",
    "    print()"
   ]
  },
  {
   "cell_type": "markdown",
   "id": "74891270",
   "metadata": {},
   "source": [
    "Задание 4\n",
    "Напишите программу, в которой задается натуральное число n и выводится пирамида из n ступенек, i-я ступень должна состоять из чисел от 1 до i и обратно без пробелов."
   ]
  },
  {
   "cell_type": "code",
   "execution_count": 112,
   "id": "e241bbe3",
   "metadata": {},
   "outputs": [
    {
     "name": "stdout",
     "output_type": "stream",
     "text": [
      "    \n",
      "   1\n",
      "  121\n",
      " 12321\n",
      "1234321\n"
     ]
    }
   ],
   "source": [
    "n = 5\n",
    "for i in range(1, n + 1):\n",
    "    print(' ' * (n - i), end='')\n",
    "    print(*range(1, i), *range(1, i - 1)[::-1], sep='')"
   ]
  },
  {
   "cell_type": "markdown",
   "id": "306710fe",
   "metadata": {},
   "source": [
    "Задание 5\n",
    "Напишите программу, в которой задается натуральное число n и выводится ромб из n*2-1 ступенек, i-я ступень должна состоять из чисел от 1 до i и обратно без пробелов."
   ]
  },
  {
   "cell_type": "code",
   "execution_count": 2,
   "id": "e73c740e",
   "metadata": {},
   "outputs": [
    {
     "name": "stdout",
     "output_type": "stream",
     "text": [
      "    \n",
      "   1\n",
      "  121\n",
      " 12321\n",
      "1234321\n",
      " 12321\n",
      "  121\n",
      "   1\n",
      "    \n"
     ]
    }
   ],
   "source": [
    "n = 5\n",
    "for i in range(1, n + 1):\n",
    "    print(' ' * (n - i), end='')\n",
    "    print(*range(1, i), *range(1, i - 1)[::-1], sep='')\n",
    "for i in range(1, n )[::-1]:\n",
    "    print(' ' * (n - i), end='')\n",
    "    print(*range(1, i), *range(1, i - 1)[::-1], sep='')"
   ]
  }
 ],
 "metadata": {
  "kernelspec": {
   "display_name": "Python 3 (ipykernel)",
   "language": "python",
   "name": "python3"
  },
  "language_info": {
   "codemirror_mode": {
    "name": "ipython",
    "version": 3
   },
   "file_extension": ".py",
   "mimetype": "text/x-python",
   "name": "python",
   "nbconvert_exporter": "python",
   "pygments_lexer": "ipython3",
   "version": "3.7.11"
  }
 },
 "nbformat": 4,
 "nbformat_minor": 5
}
