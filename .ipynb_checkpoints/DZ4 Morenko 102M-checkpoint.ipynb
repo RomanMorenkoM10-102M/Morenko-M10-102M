{
 "cells": [
  {
   "cell_type": "markdown",
   "id": "aac346f4",
   "metadata": {},
   "source": [
    "Самостоятельное задание #4"
   ]
  },
  {
   "cell_type": "markdown",
   "id": "aa68f16a",
   "metadata": {},
   "source": [
    "Вывести третий символ этой строки.\n",
    "row = \"Lambdadambda\"\n",
    "\n"
   ]
  },
  {
   "cell_type": "code",
   "execution_count": 16,
   "id": "977f1b88",
   "metadata": {},
   "outputs": [
    {
     "name": "stdout",
     "output_type": "stream",
     "text": [
      "m\n"
     ]
    }
   ],
   "source": [
    "row = \"Lambdadambda\"\n",
    "print (row[2])"
   ]
  },
  {
   "cell_type": "markdown",
   "id": "66bb15d7",
   "metadata": {},
   "source": [
    "Вывести предпоследний символ этой строки."
   ]
  },
  {
   "cell_type": "code",
   "execution_count": 17,
   "id": "7d832aff",
   "metadata": {},
   "outputs": [
    {
     "name": "stdout",
     "output_type": "stream",
     "text": [
      "d\n"
     ]
    }
   ],
   "source": [
    "row = \"Lambdadambda\"\n",
    "print (row[-2])"
   ]
  },
  {
   "cell_type": "markdown",
   "id": "e59ca150",
   "metadata": {},
   "source": [
    "Вывести первые пять символов этой строки.\n",
    "\n"
   ]
  },
  {
   "cell_type": "code",
   "execution_count": 18,
   "id": "f3fb5a60",
   "metadata": {},
   "outputs": [
    {
     "name": "stdout",
     "output_type": "stream",
     "text": [
      "Lambd\n"
     ]
    }
   ],
   "source": [
    "row = \"Lambdadambda\"\n",
    "print (row[:5])"
   ]
  },
  {
   "cell_type": "markdown",
   "id": "47628fac",
   "metadata": {},
   "source": [
    "Вывести строку, кроме последних двух символов."
   ]
  },
  {
   "cell_type": "code",
   "execution_count": 20,
   "id": "f1b4e324",
   "metadata": {},
   "outputs": [
    {
     "name": "stdout",
     "output_type": "stream",
     "text": [
      "Lambdadamb\n"
     ]
    }
   ],
   "source": [
    "row = \"Lambdadambda\"\n",
    "print (row[:-2])"
   ]
  },
  {
   "cell_type": "markdown",
   "id": "0de4b0a2",
   "metadata": {},
   "source": [
    "Вывести все символы с четными индексами (считайте, что 0 - четный индекс)."
   ]
  },
  {
   "cell_type": "code",
   "execution_count": 22,
   "id": "9e0cb90b",
   "metadata": {},
   "outputs": [
    {
     "name": "stdout",
     "output_type": "stream",
     "text": [
      "Lmddmd\n"
     ]
    }
   ],
   "source": [
    "row = \"Lambdadambda\"\n",
    "print (row[0::2])"
   ]
  },
  {
   "cell_type": "markdown",
   "id": "214d5e0e",
   "metadata": {},
   "source": [
    "Вывести все символы с нечетными индексами."
   ]
  },
  {
   "cell_type": "code",
   "execution_count": 56,
   "id": "27dd0df6",
   "metadata": {},
   "outputs": [
    {
     "name": "stdout",
     "output_type": "stream",
     "text": [
      "abaaba\n"
     ]
    }
   ],
   "source": [
    "row = \"Lambdadambda\"\n",
    "print (row[1::2])"
   ]
  },
  {
   "cell_type": "markdown",
   "id": "fbfa34b4",
   "metadata": {},
   "source": [
    "Вывести все символы в обратном порядке."
   ]
  },
  {
   "cell_type": "code",
   "execution_count": 28,
   "id": "e59cab45",
   "metadata": {},
   "outputs": [
    {
     "name": "stdout",
     "output_type": "stream",
     "text": [
      "adbmadadbmaL\n"
     ]
    }
   ],
   "source": [
    "row = \"Lambdadambda\"\n",
    "print (row[::-1])"
   ]
  },
  {
   "cell_type": "markdown",
   "id": "baf91f72",
   "metadata": {},
   "source": [
    "Вывести все символы строки через один в обратном порядке, начиная с последнего."
   ]
  },
  {
   "cell_type": "code",
   "execution_count": 54,
   "id": "e8f78326",
   "metadata": {},
   "outputs": [
    {
     "name": "stdout",
     "output_type": "stream",
     "text": [
      "abaaba\n"
     ]
    }
   ],
   "source": [
    "row = \"Lambdadambda\"\n",
    "print (row[::-2])"
   ]
  },
  {
   "cell_type": "markdown",
   "id": "bd86a24c",
   "metadata": {},
   "source": [
    "Вывести длину данной строки."
   ]
  },
  {
   "cell_type": "code",
   "execution_count": 59,
   "id": "82f29024",
   "metadata": {},
   "outputs": [
    {
     "name": "stdout",
     "output_type": "stream",
     "text": [
      "12\n"
     ]
    }
   ],
   "source": [
    "row = \"Lambdadambda\"\n",
    "print (len(row))"
   ]
  }
 ],
 "metadata": {
  "kernelspec": {
   "display_name": "Python 3 (ipykernel)",
   "language": "python",
   "name": "python3"
  },
  "language_info": {
   "codemirror_mode": {
    "name": "ipython",
    "version": 3
   },
   "file_extension": ".py",
   "mimetype": "text/x-python",
   "name": "python",
   "nbconvert_exporter": "python",
   "pygments_lexer": "ipython3",
   "version": "3.7.11"
  }
 },
 "nbformat": 4,
 "nbformat_minor": 5
}
