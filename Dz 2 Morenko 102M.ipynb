{
 "cells": [
  {
   "cell_type": "markdown",
   "id": "39fdaf1b",
   "metadata": {},
   "source": [
    "Самостоятельная работа #2\n",
    "\n",
    "Задание 1\n",
    "\n",
    "Допишите функцию, которая принимает 2 числа, сравнивает между собой и возвращает наименьшее."
   ]
  },
  {
   "cell_type": "code",
   "execution_count": 3,
   "id": "4c97301d",
   "metadata": {},
   "outputs": [
    {
     "data": {
      "text/plain": [
       "0"
      ]
     },
     "execution_count": 3,
     "metadata": {},
     "output_type": "execute_result"
    }
   ],
   "source": [
    "a=0\n",
    "b=1\n",
    "min (a,b)"
   ]
  },
  {
   "cell_type": "markdown",
   "id": "2b6b08b7",
   "metadata": {},
   "source": [
    "Задание 2\n",
    "\n",
    "Допишите функцию, которая принимает 3 числа, сравнивает между собой и возвращает наименьшее."
   ]
  },
  {
   "cell_type": "code",
   "execution_count": 5,
   "id": "a0e71e7a",
   "metadata": {},
   "outputs": [
    {
     "data": {
      "text/plain": [
       "1"
      ]
     },
     "execution_count": 5,
     "metadata": {},
     "output_type": "execute_result"
    }
   ],
   "source": [
    "a=5\n",
    "b=1\n",
    "c=10\n",
    "min (a,b,c)"
   ]
  },
  {
   "cell_type": "markdown",
   "id": "d2f7bbc6",
   "metadata": {},
   "source": [
    "Задание 3\n",
    "\n",
    "Допишите функцию, которая принимает 3 числа, сравнивает между собой и возвращает количество совпадающих чисел. Соответственно, программа может возвращать одно из трех чисел: 3 - если совпадают все, 2 - если совпадают 2 числа, 0 - если все числа различны."
   ]
  },
  {
   "cell_type": "code",
   "execution_count": 7,
   "id": "97b8fe0c",
   "metadata": {},
   "outputs": [],
   "source": [
    "a=5\n",
    "b=6\n",
    "c=7"
   ]
  },
  {
   "cell_type": "code",
   "execution_count": 15,
   "id": "75431cbd",
   "metadata": {},
   "outputs": [
    {
     "name": "stdout",
     "output_type": "stream",
     "text": [
      "0\n"
     ]
    }
   ],
   "source": [
    "if len(set([a,b,c]))==1:\n",
    "    print(3)\n",
    "if len(set([a,b,c]))==2:\n",
    "    print(2)\n",
    "if len(set([a,b,c]))==3:\n",
    "    print(0)"
   ]
  }
 ],
 "metadata": {
  "kernelspec": {
   "display_name": "Python 3 (ipykernel)",
   "language": "python",
   "name": "python3"
  },
  "language_info": {
   "codemirror_mode": {
    "name": "ipython",
    "version": 3
   },
   "file_extension": ".py",
   "mimetype": "text/x-python",
   "name": "python",
   "nbconvert_exporter": "python",
   "pygments_lexer": "ipython3",
   "version": "3.7.11"
  }
 },
 "nbformat": 4,
 "nbformat_minor": 5
}
